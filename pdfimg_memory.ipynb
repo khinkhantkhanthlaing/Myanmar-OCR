{
 "cells": [
  {
   "cell_type": "markdown",
   "metadata": {},
   "source": [
    "## pdf က​နေ ပုံအဖြစ်​ပြောင်းပြီး image processing လုပ်ခြင်း"
   ]
  },
  {
   "cell_type": "code",
   "execution_count": 1,
   "metadata": {},
   "outputs": [],
   "source": [
    "from pdf2image import convert_from_path\n",
    "import numpy as np\n",
    "import cv2    "
   ]
  },
  {
   "cell_type": "markdown",
   "metadata": {},
   "source": [
    "### pdf က​နေ ပုံအဖြစ်​ပြောင်းခြင်း"
   ]
  },
  {
   "cell_type": "code",
   "execution_count": 2,
   "metadata": {},
   "outputs": [],
   "source": [
    "def imgconvert(pfile):\n",
    "    #resolution သတ်မှတ်ထားခြင်း\n",
    "    dpi = 200\n",
    "    pages = convert_from_path(pfile, dpi)\n",
    "    return pages"
   ]
  },
  {
   "cell_type": "markdown",
   "metadata": {},
   "source": [
    "### input imageကို binarization လုပ်ခြင်း"
   ]
  },
  {
   "cell_type": "code",
   "execution_count": 3,
   "metadata": {},
   "outputs": [],
   "source": [
    "def otsu(gray):\n",
    "    pixel_no = gray.shape[0] * gray.shape[1]\n",
    "    mean_weight = 1.0/pixel_no\n",
    "    his, bins = np.histogram(gray, np.array(range(0, 257)))\n",
    "    final_thresh = -1\n",
    "    final_value = -1\n",
    "    intensity_arr = np.arange(256)\n",
    "    for t in bins[1:-1]:\n",
    "        pcb = np.sum(his[:t])\n",
    "        pcf = np.sum(his[t:])\n",
    "        Wb = pcb * mean_weight\n",
    "        Wf = pcf * mean_weight\n",
    "        \n",
    "        mub= np.sum(intensity_arr[:t]*his[:t])/ float(pcb)\n",
    "        muf= np.sum(intensity_arr[t:]*his[t:])/ float(pcf)\n",
    "        \n",
    "        value = Wb * Wf * (mub - muf) **2\n",
    "       \n",
    "        if value > final_value:\n",
    "            final_thresh = t\n",
    "            final_value = value\n",
    "    final_img = gray.copy()\n",
    "    print(final_thresh)\n",
    "    final_img[gray > final_thresh] = 255\n",
    "    final_img[gray < final_thresh] = 0\n",
    "    return final_img"
   ]
  },
  {
   "cell_type": "markdown",
   "metadata": {},
   "source": [
    "### testing"
   ]
  },
  {
   "cell_type": "code",
   "execution_count": 4,
   "metadata": {},
   "outputs": [],
   "source": [
    "pdf_file = 'nettest.pdf'\n",
    "pages = imgconvert(pdf_file)\n",
    "#ပုံအဖြစ်ထုတ်ကြည့်ခြင်း\n",
    "page1 = np.uint8(pages[9])\n",
    "cv2.imshow(\"page1\", page1)\n",
    "cv2.waitKey(0)\n",
    "cv2.destroyAllWindows()"
   ]
  },
  {
   "cell_type": "code",
   "execution_count": 7,
   "metadata": {},
   "outputs": [
    {
     "name": "stdout",
     "output_type": "stream",
     "text": [
      "141\n"
     ]
    }
   ],
   "source": [
    "#binarization လုပ်ပြီး ပုံsaveကြည့်ခြင်း\n",
    "binz = otsu(page1)\n",
    "cv2.imwrite(\"binarized_image.jpg\", binz)\n",
    "cv2.waitKey(0)\n",
    "cv2.destroyAllWindows()"
   ]
  },
  {
   "cell_type": "code",
   "execution_count": null,
   "metadata": {},
   "outputs": [],
   "source": []
  }
 ],
 "metadata": {
  "kernelspec": {
   "display_name": "Python 3",
   "language": "python",
   "name": "python3"
  },
  "language_info": {
   "codemirror_mode": {
    "name": "ipython",
    "version": 3
   },
   "file_extension": ".py",
   "mimetype": "text/x-python",
   "name": "python",
   "nbconvert_exporter": "python",
   "pygments_lexer": "ipython3",
   "version": "3.7.6"
  }
 },
 "nbformat": 4,
 "nbformat_minor": 4
}
