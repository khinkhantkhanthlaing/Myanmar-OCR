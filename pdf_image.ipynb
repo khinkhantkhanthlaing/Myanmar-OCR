{
 "cells": [
  {
   "cell_type": "markdown",
   "metadata": {},
   "source": [
    "## Converting pdf to image"
   ]
  },
  {
   "cell_type": "markdown",
   "metadata": {},
   "source": [
    "pdfက​နေ ပုံအ​ဖြစ်​ပြောင်းရန် pdf2image ကို အသုံးပြုထားပါတယ်။"
   ]
  },
  {
   "cell_type": "code",
   "execution_count": null,
   "metadata": {},
   "outputs": [],
   "source": [
    "pip install pdf2image"
   ]
  },
  {
   "cell_type": "code",
   "execution_count": 1,
   "metadata": {},
   "outputs": [],
   "source": [
    "def imgconvert(pfile):\n",
    "    #resolution သတ်မှတ်ထားခြင်း\n",
    "    dpi = 200\n",
    "    #output folder သတ်မှတ်ခြင်း\n",
    "    outfolder = '/home/utycc/Noval_proj/pdf_out/'\n",
    "    pages = convert_from_path(pfile, dpi)\n",
    "    \n",
    "    for i in range(len(pages)):\n",
    "        page = pages[i]\n",
    "        page.save(outfolder+'output_{}.png'.format(i), 'png')"
   ]
  },
  {
   "cell_type": "code",
   "execution_count": 2,
   "metadata": {},
   "outputs": [],
   "source": [
    "from pdf2image import convert_from_path\n",
    "\n",
    "pdf_file = 'nettest.pdf'\n",
    "imgconvert(pdf_file)"
   ]
  },
  {
   "cell_type": "code",
   "execution_count": null,
   "metadata": {},
   "outputs": [],
   "source": []
  }
 ],
 "metadata": {
  "kernelspec": {
   "display_name": "Python 3",
   "language": "python",
   "name": "python3"
  },
  "language_info": {
   "codemirror_mode": {
    "name": "ipython",
    "version": 3
   },
   "file_extension": ".py",
   "mimetype": "text/x-python",
   "name": "python",
   "nbconvert_exporter": "python",
   "pygments_lexer": "ipython3",
   "version": "3.7.6"
  }
 },
 "nbformat": 4,
 "nbformat_minor": 4
}
